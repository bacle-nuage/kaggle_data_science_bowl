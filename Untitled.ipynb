{
 "cells": [
  {
   "cell_type": "code",
   "execution_count": null,
   "metadata": {},
   "outputs": [
    {
     "name": "stdout",
     "output_type": "stream",
     "text": [
      "main start\n",
      "data set start\n",
      "Read data\n"
     ]
    }
   ],
   "source": [
    "# -*- coding: utf-8 -*-\n",
    "#\n",
    "# from sklearn import preprocessing\n",
    "# from keras.models import Sequential\n",
    "# from keras.layers import Dense, Activation\n",
    "\n",
    "# import pyper\n",
    "import pandas as pd\n",
    "# import numpy as np\n",
    "\n",
    "import category_encoders as ce # data mining\n",
    "\n",
    "\"\"\"\n",
    "データ読み込み\n",
    "\"\"\"\n",
    "def read_data():\n",
    "    print(f'Read data')\n",
    "    train_df = pd.read_csv('../input/data-science-bowl-2019/train.csv')\n",
    "    test_df = pd.read_csv('../input/data-science-bowl-2019/test.csv')\n",
    "    train_labels_df = pd.read_csv('../input/data-science-bowl-2019/train_labels.csv')\n",
    "    specs_df = pd.read_csv('../input/data-science-bowl-2019/specs.csv')\n",
    "    sample_submission_df = pd.read_csv('../input/data-science-bowl-2019/sample_submission.csv')\n",
    "    return train_df, test_df, train_labels_df, specs_df, sample_submission_df\n",
    "\n",
    "\"\"\"\n",
    "データ整理\n",
    "\"\"\"\n",
    "def data_mining(df_session, list_cols):\n",
    "    # Eoncodeしたい列をリストで指定。もちろん複数指定可能。\n",
    "    # list_cols = ['device']\n",
    "\n",
    "    # 序数をカテゴリに付与して変換\n",
    "    ce_oe = ce.OrdinalEncoder(cols=list_cols, handle_unknown='impute')\n",
    "    df_session_ce_ordinal = ce_oe.fit_transform(df_session)\n",
    "\n",
    "    df_session_ce_ordinal.head()\n",
    "\n",
    "def main():\n",
    "    print('main start')\n",
    "    # data set\n",
    "    print('data set start')\n",
    "    train_df, test_df, train_labels_df, specs_df, sample_submission_df = read_data()\n",
    "\n",
    "    # display for now data\n",
    "    print('display start')\n",
    "    print(f\"train_df shape            : {train_df.shape}\")\n",
    "    print(f\"test_df shape             : {test_df.shape}\")\n",
    "    print(f\"train_labels_df shape     : {train_labels_df.shape}\")\n",
    "    # print(f\"specs_df shape            : {specs_df.shape}\")             # rm\n",
    "    # print(f\"sample_submission_df shape: {sample_submission_df.shape}\") # rm\n",
    "    \n",
    "    print('display head start')\n",
    "    train_df.head()\n",
    "    test_df.head()\n",
    "    train_labels_df.head()\n",
    "    # specs_df.head()\n",
    "    # sample_submission_df.head()\n",
    "\n",
    "    # data mining\n",
    "    print('data mining start')\n",
    "    data_mining(train_df, ['event_id', 'installation_id', 'title', 'type', 'world'])\n",
    "\n",
    "# if __name__ == \"__main__\":\n",
    "    \n",
    "main()"
   ]
  },
  {
   "cell_type": "code",
   "execution_count": null,
   "metadata": {},
   "outputs": [],
   "source": []
  }
 ],
 "metadata": {
  "kernelspec": {
   "display_name": "Python 3",
   "language": "python",
   "name": "python3"
  },
  "language_info": {
   "codemirror_mode": {
    "name": "ipython",
    "version": 3
   },
   "file_extension": ".py",
   "mimetype": "text/x-python",
   "name": "python",
   "nbconvert_exporter": "python",
   "pygments_lexer": "ipython3",
   "version": "3.7.2"
  }
 },
 "nbformat": 4,
 "nbformat_minor": 2
}
